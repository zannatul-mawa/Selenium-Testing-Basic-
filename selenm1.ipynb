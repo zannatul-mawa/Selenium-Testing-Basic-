{
 "cells": [
  {
   "cell_type": "code",
   "execution_count": 30,
   "id": "96d8664c",
   "metadata": {},
   "outputs": [
    {
     "name": "stdout",
     "output_type": "stream",
     "text": [
      "Start\n"
     ]
    }
   ],
   "source": [
    "from selenium import webdriver\n",
    "import time\n",
    "from selenium.webdriver.common.by import By\n",
    "from selenium.webdriver.common.keys import Keys\n",
    "\n",
    "print(\"Start\")"
   ]
  },
  {
   "cell_type": "code",
   "execution_count": 31,
   "id": "2952b028",
   "metadata": {},
   "outputs": [],
   "source": [
    "#initialize Firefox\n",
    "driver = webdriver.Firefox('executable_path' == 'C:\\webdriver\\geckodriver.exe')"
   ]
  },
  {
   "cell_type": "code",
   "execution_count": 32,
   "id": "0c56b047",
   "metadata": {},
   "outputs": [],
   "source": [
    "#relevent website\n",
    "website_1 = \"https://www.geekbuying.com/searchword/laptop/\"\n",
    "website_2 = \"https://talhatraining.com/\""
   ]
  },
  {
   "cell_type": "code",
   "execution_count": 33,
   "id": "13a2ea98",
   "metadata": {},
   "outputs": [],
   "source": [
    "#open website\n",
    "driver.get(website_1)\n",
    "\n",
    "#maximize window\n",
    "driver.maximize_window()"
   ]
  },
  {
   "cell_type": "code",
   "execution_count": 34,
   "id": "2644be4f",
   "metadata": {},
   "outputs": [],
   "source": [
    "price = driver.find_element(by = By.XPATH, value = '//div[@ class=\"gdpr-cookie\"]')"
   ]
  },
  {
   "cell_type": "code",
   "execution_count": null,
   "id": "584131eb",
   "metadata": {},
   "outputs": [],
   "source": []
  }
 ],
 "metadata": {
  "kernelspec": {
   "display_name": "Python 3 (ipykernel)",
   "language": "python",
   "name": "python3"
  },
  "language_info": {
   "codemirror_mode": {
    "name": "ipython",
    "version": 3
   },
   "file_extension": ".py",
   "mimetype": "text/x-python",
   "name": "python",
   "nbconvert_exporter": "python",
   "pygments_lexer": "ipython3",
   "version": "3.11.4"
  }
 },
 "nbformat": 4,
 "nbformat_minor": 5
}
